{
 "cells": [
  {
   "cell_type": "markdown",
   "metadata": {},
   "source": [
    "# MultiLayer Perceptron traffic prediction for One Step of All Cells"
   ]
  },
  {
   "cell_type": "markdown",
   "metadata": {},
   "source": [
    "## 1. Load the dataset"
   ]
  },
  {
   "cell_type": "code",
   "execution_count": 1,
   "metadata": {},
   "outputs": [],
   "source": [
    "import pandas as pd\n",
    "import numpy as np\n",
    "import tensorflow as tf\n",
    "import matplotlib.pyplot as plt\n",
    "from sklearn.preprocessing import MinMaxScaler"
   ]
  },
  {
   "cell_type": "code",
   "execution_count": 2,
   "metadata": {},
   "outputs": [],
   "source": [
    "# fix tensorflow gpu problems\n",
    "from tensorflow.compat.v1 import ConfigProto\n",
    "from tensorflow.compat.v1 import InteractiveSession\n",
    "config = ConfigProto()\n",
    "config.gpu_options.allow_growth = True\n",
    "session = InteractiveSession(config=config)"
   ]
  },
  {
   "cell_type": "code",
   "execution_count": 3,
   "metadata": {},
   "outputs": [
    {
     "name": "stdout",
     "output_type": "stream",
     "text": [
      "1\n",
      "True\n",
      "True\n",
      "/device:GPU:0\n"
     ]
    }
   ],
   "source": [
    "# check gpu support\n",
    "gpus = tf.config.list_physical_devices('GPU')\n",
    "print(len(gpus))\n",
    "print(tf.test.is_built_with_gpu_support())\n",
    "print(tf.test.is_built_with_cuda())\n",
    "print(tf.test.gpu_device_name())"
   ]
  },
  {
   "cell_type": "code",
   "execution_count": 4,
   "metadata": {},
   "outputs": [
    {
     "data": {
      "text/html": [
       "<div>\n",
       "<style scoped>\n",
       "    .dataframe tbody tr th:only-of-type {\n",
       "        vertical-align: middle;\n",
       "    }\n",
       "\n",
       "    .dataframe tbody tr th {\n",
       "        vertical-align: top;\n",
       "    }\n",
       "\n",
       "    .dataframe thead th {\n",
       "        text-align: right;\n",
       "    }\n",
       "</style>\n",
       "<table border=\"1\" class=\"dataframe\">\n",
       "  <thead>\n",
       "    <tr style=\"text-align: right;\">\n",
       "      <th></th>\n",
       "      <th>Cell_000111</th>\n",
       "      <th>Cell_000112</th>\n",
       "      <th>Cell_000113</th>\n",
       "      <th>Cell_000231</th>\n",
       "      <th>Cell_000232</th>\n",
       "      <th>Cell_000233</th>\n",
       "      <th>Cell_000461</th>\n",
       "      <th>Cell_000462</th>\n",
       "      <th>Cell_000463</th>\n",
       "      <th>Cell_000821</th>\n",
       "      <th>...</th>\n",
       "      <th>Cell_006653</th>\n",
       "      <th>Cell_006661</th>\n",
       "      <th>Cell_006662</th>\n",
       "      <th>Cell_006663</th>\n",
       "      <th>Cell_007371</th>\n",
       "      <th>Cell_007372</th>\n",
       "      <th>Cell_007373</th>\n",
       "      <th>Cell_039871</th>\n",
       "      <th>Cell_039872</th>\n",
       "      <th>Cell_039873</th>\n",
       "    </tr>\n",
       "    <tr>\n",
       "      <th>Timestamp</th>\n",
       "      <th></th>\n",
       "      <th></th>\n",
       "      <th></th>\n",
       "      <th></th>\n",
       "      <th></th>\n",
       "      <th></th>\n",
       "      <th></th>\n",
       "      <th></th>\n",
       "      <th></th>\n",
       "      <th></th>\n",
       "      <th></th>\n",
       "      <th></th>\n",
       "      <th></th>\n",
       "      <th></th>\n",
       "      <th></th>\n",
       "      <th></th>\n",
       "      <th></th>\n",
       "      <th></th>\n",
       "      <th></th>\n",
       "      <th></th>\n",
       "      <th></th>\n",
       "    </tr>\n",
       "  </thead>\n",
       "  <tbody>\n",
       "    <tr>\n",
       "      <th>2017-10-23 00:00:00</th>\n",
       "      <td>29.26490</td>\n",
       "      <td>59.15291</td>\n",
       "      <td>59.01721</td>\n",
       "      <td>2.63658</td>\n",
       "      <td>14.11635</td>\n",
       "      <td>3.37565</td>\n",
       "      <td>7.69811</td>\n",
       "      <td>0.62042</td>\n",
       "      <td>0.74651</td>\n",
       "      <td>0.00000</td>\n",
       "      <td>...</td>\n",
       "      <td>36.89798</td>\n",
       "      <td>148.60854</td>\n",
       "      <td>98.66328</td>\n",
       "      <td>6.60830</td>\n",
       "      <td>0.82699</td>\n",
       "      <td>3.27327</td>\n",
       "      <td>80.90784</td>\n",
       "      <td>18.22045</td>\n",
       "      <td>6.99716</td>\n",
       "      <td>1.73569</td>\n",
       "    </tr>\n",
       "    <tr>\n",
       "      <th>2017-10-23 01:00:00</th>\n",
       "      <td>19.26170</td>\n",
       "      <td>60.22876</td>\n",
       "      <td>40.34814</td>\n",
       "      <td>13.16293</td>\n",
       "      <td>0.96246</td>\n",
       "      <td>7.47019</td>\n",
       "      <td>31.07216</td>\n",
       "      <td>0.52249</td>\n",
       "      <td>14.31437</td>\n",
       "      <td>19.78196</td>\n",
       "      <td>...</td>\n",
       "      <td>35.80842</td>\n",
       "      <td>11.13813</td>\n",
       "      <td>0.43016</td>\n",
       "      <td>1.45869</td>\n",
       "      <td>0.73014</td>\n",
       "      <td>0.35795</td>\n",
       "      <td>1.58017</td>\n",
       "      <td>38.19131</td>\n",
       "      <td>9.75174</td>\n",
       "      <td>7.38484</td>\n",
       "    </tr>\n",
       "    <tr>\n",
       "      <th>2017-10-23 02:00:00</th>\n",
       "      <td>18.37236</td>\n",
       "      <td>14.83900</td>\n",
       "      <td>1.27435</td>\n",
       "      <td>25.36683</td>\n",
       "      <td>1.07481</td>\n",
       "      <td>3.88256</td>\n",
       "      <td>26.14190</td>\n",
       "      <td>1.10567</td>\n",
       "      <td>27.31817</td>\n",
       "      <td>0.00000</td>\n",
       "      <td>...</td>\n",
       "      <td>42.86074</td>\n",
       "      <td>39.93543</td>\n",
       "      <td>0.28038</td>\n",
       "      <td>1.09835</td>\n",
       "      <td>0.38237</td>\n",
       "      <td>0.66306</td>\n",
       "      <td>0.75476</td>\n",
       "      <td>1.29435</td>\n",
       "      <td>3.66695</td>\n",
       "      <td>2.57090</td>\n",
       "    </tr>\n",
       "    <tr>\n",
       "      <th>2017-10-23 03:00:00</th>\n",
       "      <td>18.69268</td>\n",
       "      <td>0.98166</td>\n",
       "      <td>2.11746</td>\n",
       "      <td>1.66842</td>\n",
       "      <td>0.85055</td>\n",
       "      <td>14.04557</td>\n",
       "      <td>0.56444</td>\n",
       "      <td>0.50090</td>\n",
       "      <td>12.28002</td>\n",
       "      <td>0.00000</td>\n",
       "      <td>...</td>\n",
       "      <td>55.43529</td>\n",
       "      <td>10.91845</td>\n",
       "      <td>4.04031</td>\n",
       "      <td>5.95218</td>\n",
       "      <td>0.50307</td>\n",
       "      <td>0.26729</td>\n",
       "      <td>1.32703</td>\n",
       "      <td>1.01926</td>\n",
       "      <td>0.17117</td>\n",
       "      <td>11.62664</td>\n",
       "    </tr>\n",
       "    <tr>\n",
       "      <th>2017-10-23 04:00:00</th>\n",
       "      <td>21.62559</td>\n",
       "      <td>4.28219</td>\n",
       "      <td>3.51484</td>\n",
       "      <td>1.78151</td>\n",
       "      <td>0.71691</td>\n",
       "      <td>12.94846</td>\n",
       "      <td>27.45815</td>\n",
       "      <td>17.99582</td>\n",
       "      <td>5.18661</td>\n",
       "      <td>0.00033</td>\n",
       "      <td>...</td>\n",
       "      <td>16.57459</td>\n",
       "      <td>46.98406</td>\n",
       "      <td>0.89364</td>\n",
       "      <td>5.47769</td>\n",
       "      <td>4.58068</td>\n",
       "      <td>0.30167</td>\n",
       "      <td>1.20668</td>\n",
       "      <td>0.82393</td>\n",
       "      <td>123.40943</td>\n",
       "      <td>28.72087</td>\n",
       "    </tr>\n",
       "  </tbody>\n",
       "</table>\n",
       "<p>5 rows × 57 columns</p>\n",
       "</div>"
      ],
      "text/plain": [
       "                     Cell_000111  Cell_000112  Cell_000113  Cell_000231  \\\n",
       "Timestamp                                                                 \n",
       "2017-10-23 00:00:00     29.26490     59.15291     59.01721      2.63658   \n",
       "2017-10-23 01:00:00     19.26170     60.22876     40.34814     13.16293   \n",
       "2017-10-23 02:00:00     18.37236     14.83900      1.27435     25.36683   \n",
       "2017-10-23 03:00:00     18.69268      0.98166      2.11746      1.66842   \n",
       "2017-10-23 04:00:00     21.62559      4.28219      3.51484      1.78151   \n",
       "\n",
       "                     Cell_000232  Cell_000233  Cell_000461  Cell_000462  \\\n",
       "Timestamp                                                                 \n",
       "2017-10-23 00:00:00     14.11635      3.37565      7.69811      0.62042   \n",
       "2017-10-23 01:00:00      0.96246      7.47019     31.07216      0.52249   \n",
       "2017-10-23 02:00:00      1.07481      3.88256     26.14190      1.10567   \n",
       "2017-10-23 03:00:00      0.85055     14.04557      0.56444      0.50090   \n",
       "2017-10-23 04:00:00      0.71691     12.94846     27.45815     17.99582   \n",
       "\n",
       "                     Cell_000463  Cell_000821  ...  Cell_006653  Cell_006661  \\\n",
       "Timestamp                                      ...                             \n",
       "2017-10-23 00:00:00      0.74651      0.00000  ...     36.89798    148.60854   \n",
       "2017-10-23 01:00:00     14.31437     19.78196  ...     35.80842     11.13813   \n",
       "2017-10-23 02:00:00     27.31817      0.00000  ...     42.86074     39.93543   \n",
       "2017-10-23 03:00:00     12.28002      0.00000  ...     55.43529     10.91845   \n",
       "2017-10-23 04:00:00      5.18661      0.00033  ...     16.57459     46.98406   \n",
       "\n",
       "                     Cell_006662  Cell_006663  Cell_007371  Cell_007372  \\\n",
       "Timestamp                                                                 \n",
       "2017-10-23 00:00:00     98.66328      6.60830      0.82699      3.27327   \n",
       "2017-10-23 01:00:00      0.43016      1.45869      0.73014      0.35795   \n",
       "2017-10-23 02:00:00      0.28038      1.09835      0.38237      0.66306   \n",
       "2017-10-23 03:00:00      4.04031      5.95218      0.50307      0.26729   \n",
       "2017-10-23 04:00:00      0.89364      5.47769      4.58068      0.30167   \n",
       "\n",
       "                     Cell_007373  Cell_039871  Cell_039872  Cell_039873  \n",
       "Timestamp                                                                \n",
       "2017-10-23 00:00:00     80.90784     18.22045      6.99716      1.73569  \n",
       "2017-10-23 01:00:00      1.58017     38.19131      9.75174      7.38484  \n",
       "2017-10-23 02:00:00      0.75476      1.29435      3.66695      2.57090  \n",
       "2017-10-23 03:00:00      1.32703      1.01926      0.17117     11.62664  \n",
       "2017-10-23 04:00:00      1.20668      0.82393    123.40943     28.72087  \n",
       "\n",
       "[5 rows x 57 columns]"
      ]
     },
     "execution_count": 4,
     "metadata": {},
     "output_type": "execute_result"
    }
   ],
   "source": [
    "df = pd.read_csv('dataset.csv', index_col='Timestamp')\n",
    "df.head()"
   ]
  },
  {
   "cell_type": "markdown",
   "metadata": {},
   "source": [
    "## 2. Fill NaNs"
   ]
  },
  {
   "cell_type": "code",
   "execution_count": 5,
   "metadata": {},
   "outputs": [
    {
     "data": {
      "text/plain": [
       "0"
      ]
     },
     "execution_count": 5,
     "metadata": {},
     "output_type": "execute_result"
    }
   ],
   "source": [
    "ndf = df.interpolate(method='linear', axis=1) # linear interpolate\n",
    "#ndf = df.fillna(method='ffill', axis=1) # forward the last valid observation\n",
    "ndf = df.fillna(0) # fill remaned nans with 0s\n",
    "ndf.isna().sum().sum()"
   ]
  },
  {
   "cell_type": "markdown",
   "metadata": {},
   "source": [
    "## 3. Train-Test Split"
   ]
  },
  {
   "cell_type": "code",
   "execution_count": 6,
   "metadata": {},
   "outputs": [
    {
     "data": {
      "text/plain": [
       "(8738, 57)"
      ]
     },
     "execution_count": 6,
     "metadata": {},
     "output_type": "execute_result"
    }
   ],
   "source": [
    "data = ndf.values\n",
    "data = data.astype('float32')\n",
    "data.shape"
   ]
  },
  {
   "cell_type": "code",
   "execution_count": 7,
   "metadata": {},
   "outputs": [
    {
     "name": "stdout",
     "output_type": "stream",
     "text": [
      "(6990, 57)\n",
      "(1748, 57)\n"
     ]
    }
   ],
   "source": [
    "ratio = 0.8\n",
    "train_size = int(ratio*len(data))\n",
    "train = data[:train_size]\n",
    "test = data[train_size:]\n",
    "print(train.shape)\n",
    "print(test.shape)"
   ]
  },
  {
   "cell_type": "markdown",
   "metadata": {},
   "source": [
    "## 4. Min-Max Scaling"
   ]
  },
  {
   "cell_type": "code",
   "execution_count": 8,
   "metadata": {},
   "outputs": [],
   "source": [
    "scaler = MinMaxScaler()\n",
    "train = scaler.fit_transform(train)\n",
    "test = scaler.transform(test)"
   ]
  },
  {
   "cell_type": "markdown",
   "metadata": {},
   "source": [
    "## 5. Time Series Generators"
   ]
  },
  {
   "cell_type": "code",
   "execution_count": 9,
   "metadata": {},
   "outputs": [],
   "source": [
    "days_back = 7 # back days for prediction\n",
    "input_steps = 24*days_back \n",
    "output_steps = 1 \n",
    "batch_size = 1\n",
    "train_gen = tf.keras.preprocessing.sequence.TimeseriesGenerator(train,\n",
    "                                                                train,\n",
    "                                                                length=input_steps,\n",
    "                                                                batch_size=batch_size)\n",
    "test_gen = tf.keras.preprocessing.sequence.TimeseriesGenerator(test,\n",
    "                                                               test,\n",
    "                                                               length=input_steps,\n",
    "                                                               batch_size=batch_size)"
   ]
  },
  {
   "cell_type": "code",
   "execution_count": 10,
   "metadata": {},
   "outputs": [
    {
     "name": "stdout",
     "output_type": "stream",
     "text": [
      "Number of train samples:  6822\n",
      "Number of test samples:  1580\n"
     ]
    }
   ],
   "source": [
    "print(\"Number of train samples: \", len(train_gen))\n",
    "print(\"Number of test samples: \", len(test_gen))"
   ]
  },
  {
   "cell_type": "markdown",
   "metadata": {},
   "source": [
    "## 6. Define MLP"
   ]
  },
  {
   "cell_type": "code",
   "execution_count": 11,
   "metadata": {},
   "outputs": [
    {
     "name": "stdout",
     "output_type": "stream",
     "text": [
      "Model: \"sequential\"\n",
      "_________________________________________________________________\n",
      "Layer (type)                 Output Shape              Param #   \n",
      "=================================================================\n",
      "dense (Dense)                (None, 168, 1024)         59392     \n",
      "_________________________________________________________________\n",
      "dense_1 (Dense)              (None, 168, 512)          524800    \n",
      "_________________________________________________________________\n",
      "dense_2 (Dense)              (None, 168, 256)          131328    \n",
      "_________________________________________________________________\n",
      "dense_3 (Dense)              (None, 168, 57)           14649     \n",
      "=================================================================\n",
      "Total params: 730,169\n",
      "Trainable params: 730,169\n",
      "Non-trainable params: 0\n",
      "_________________________________________________________________\n",
      "None\n"
     ]
    }
   ],
   "source": [
    "model = tf.keras.models.Sequential()\n",
    "model.add(tf.keras.layers.Dense(1024, activation='relu', input_shape=(input_steps, train.shape[1])))\n",
    "model.add(tf.keras.layers.Dense(512, activation='relu'))\n",
    "model.add(tf.keras.layers.Dense(256, activation='relu'))\n",
    "model.add(tf.keras.layers.Dense(train.shape[1], activation='linear'))\n",
    "print(model.summary())"
   ]
  },
  {
   "cell_type": "code",
   "execution_count": 12,
   "metadata": {},
   "outputs": [],
   "source": [
    "model.compile(optimizer='adam',\n",
    "             loss='mean_squared_error')"
   ]
  },
  {
   "cell_type": "markdown",
   "metadata": {},
   "source": [
    "## 7. Train MLP"
   ]
  },
  {
   "cell_type": "code",
   "execution_count": 13,
   "metadata": {
    "scrolled": true
   },
   "outputs": [
    {
     "name": "stdout",
     "output_type": "stream",
     "text": [
      "Epoch 1/30\n",
      "6822/6822 [==============================] - 25s 4ms/step - loss: 0.0111 - val_loss: 0.0326\n",
      "Epoch 2/30\n",
      "6822/6822 [==============================] - 26s 4ms/step - loss: 0.0107 - val_loss: 0.0305\n",
      "Epoch 3/30\n",
      "6822/6822 [==============================] - 26s 4ms/step - loss: 0.0106 - val_loss: 0.0298\n",
      "Epoch 4/30\n",
      "6822/6822 [==============================] - 26s 4ms/step - loss: 0.0105 - val_loss: 0.0287\n",
      "Epoch 5/30\n",
      "6822/6822 [==============================] - 26s 4ms/step - loss: 0.0105 - val_loss: 0.0281\n",
      "Epoch 6/30\n",
      "6822/6822 [==============================] - 26s 4ms/step - loss: 0.0104 - val_loss: 0.0293\n",
      "Epoch 7/30\n",
      "6822/6822 [==============================] - 26s 4ms/step - loss: 0.0104 - val_loss: 0.0279\n",
      "Epoch 8/30\n",
      "6822/6822 [==============================] - 26s 4ms/step - loss: 0.0104 - val_loss: 0.0280\n",
      "Epoch 9/30\n",
      "6822/6822 [==============================] - 26s 4ms/step - loss: 0.0104 - val_loss: 0.0286\n",
      "Epoch 10/30\n",
      "6822/6822 [==============================] - 25s 4ms/step - loss: 0.0103 - val_loss: 0.0306\n",
      "Epoch 11/30\n",
      "6822/6822 [==============================] - 26s 4ms/step - loss: 0.0103 - val_loss: 0.0282\n",
      "Epoch 12/30\n",
      "6822/6822 [==============================] - 26s 4ms/step - loss: 0.0103 - val_loss: 0.0297\n",
      "Epoch 13/30\n",
      "6822/6822 [==============================] - 26s 4ms/step - loss: 0.0103 - val_loss: 0.0295\n",
      "Epoch 14/30\n",
      "6822/6822 [==============================] - 26s 4ms/step - loss: 0.0103 - val_loss: 0.0290\n",
      "Epoch 15/30\n",
      "6822/6822 [==============================] - 25s 4ms/step - loss: 0.0103 - val_loss: 0.0286\n",
      "Epoch 16/30\n",
      "6822/6822 [==============================] - 26s 4ms/step - loss: 0.0103 - val_loss: 0.0281\n",
      "Epoch 17/30\n",
      "6822/6822 [==============================] - 26s 4ms/step - loss: 0.0103 - val_loss: 0.0289\n",
      "Epoch 18/30\n",
      "6822/6822 [==============================] - 25s 4ms/step - loss: 0.0103 - val_loss: 0.0292\n",
      "Epoch 19/30\n",
      "6822/6822 [==============================] - 24s 4ms/step - loss: 0.0103 - val_loss: 0.0286\n",
      "Epoch 20/30\n",
      "6822/6822 [==============================] - 24s 4ms/step - loss: 0.0103 - val_loss: 0.0285\n",
      "Epoch 21/30\n",
      "6822/6822 [==============================] - 24s 4ms/step - loss: 0.0103 - val_loss: 0.0285\n",
      "Epoch 22/30\n",
      "6822/6822 [==============================] - 24s 4ms/step - loss: 0.0103 - val_loss: 0.0281\n",
      "Epoch 23/30\n",
      "6822/6822 [==============================] - 24s 4ms/step - loss: 0.0102 - val_loss: 0.0292\n",
      "Epoch 24/30\n",
      "6822/6822 [==============================] - 24s 4ms/step - loss: 0.0102 - val_loss: 0.0287\n",
      "Epoch 25/30\n",
      "6822/6822 [==============================] - 24s 4ms/step - loss: 0.0102 - val_loss: 0.0288\n",
      "Epoch 26/30\n",
      "6822/6822 [==============================] - 24s 4ms/step - loss: 0.0102 - val_loss: 0.0286\n",
      "Epoch 27/30\n",
      "6822/6822 [==============================] - 22s 3ms/step - loss: 0.0102 - val_loss: 0.0282\n",
      "Epoch 28/30\n",
      "6822/6822 [==============================] - 22s 3ms/step - loss: 0.0102 - val_loss: 0.0286\n",
      "Epoch 29/30\n",
      "6822/6822 [==============================] - 23s 3ms/step - loss: 0.0102 - val_loss: 0.0293\n",
      "Epoch 30/30\n",
      "6822/6822 [==============================] - 23s 3ms/step - loss: 0.0102 - val_loss: 0.0297\n"
     ]
    }
   ],
   "source": [
    "history = model.fit(train_gen,\n",
    "                    epochs=30,\n",
    "                    validation_data=test_gen,\n",
    "                    verbose=1)"
   ]
  },
  {
   "cell_type": "code",
   "execution_count": 14,
   "metadata": {},
   "outputs": [
    {
     "data": {
      "image/png": "[encoded data removed]",
      "text/plain": [
       "<Figure size 720x720 with 1 Axes>"
      ]
     },
     "metadata": {
      "needs_background": "light"
     },
     "output_type": "display_data"
    }
   ],
   "source": [
    "loss = history.history['loss']\n",
    "val_loss = history.history['val_loss']\n",
    "plt.figure(figsize=(10,10))\n",
    "plt.plot(loss, 'r', label='Loss of training data')\n",
    "plt.plot(val_loss, 'b-', label='Loss of validation data')\n",
    "plt.title('Model Loss')\n",
    "plt.ylabel('Loss')\n",
    "plt.xlabel('Training Epoch')\n",
    "plt.show()"
   ]
  },
  {
   "cell_type": "code",
   "execution_count": 15,
   "metadata": {},
   "outputs": [
    {
     "name": "stdout",
     "output_type": "stream",
     "text": [
      "Validation MSE of MLP is 0.0279\n"
     ]
    }
   ],
   "source": [
    "print(f'Validation MSE of MLP is {min(val_loss):.4f}')"
   ]
  }
 ],
 "metadata": {
  "kernelspec": {
   "display_name": "Python 3",
   "language": "python",
   "name": "python3"
  },
  "language_info": {
   "codemirror_mode": {
    "name": "ipython",
    "version": 3
   },
   "file_extension": ".py",
   "mimetype": "text/x-python",
   "name": "python",
   "nbconvert_exporter": "python",
   "pygments_lexer": "ipython3",
   "version": "3.8.5"
  }
 },
 "nbformat": 4,
 "nbformat_minor": 4
}
