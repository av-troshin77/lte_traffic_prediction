{
 "cells": [
  {
   "cell_type": "markdown",
   "metadata": {},
   "source": [
    "# Augoregresion for One Step Prediction of All Cells"
   ]
  },
  {
   "cell_type": "markdown",
   "metadata": {},
   "source": [
    "## 1. Load the dataset"
   ]
  },
  {
   "cell_type": "code",
   "execution_count": 1,
   "metadata": {},
   "outputs": [],
   "source": [
    "import pandas as pd\n",
    "import numpy as np\n",
    "import tensorflow as tf\n",
    "import matplotlib.pyplot as plt\n",
    "from sklearn.preprocessing import MinMaxScaler\n",
    "import statsmodels.api as sm\n",
    "from sklearn.metrics import mean_squared_error"
   ]
  },
  {
   "cell_type": "code",
   "execution_count": 2,
   "metadata": {},
   "outputs": [
    {
     "data": {
      "text/html": [
       "<div>\n",
       "<style scoped>\n",
       "    .dataframe tbody tr th:only-of-type {\n",
       "        vertical-align: middle;\n",
       "    }\n",
       "\n",
       "    .dataframe tbody tr th {\n",
       "        vertical-align: top;\n",
       "    }\n",
       "\n",
       "    .dataframe thead th {\n",
       "        text-align: right;\n",
       "    }\n",
       "</style>\n",
       "<table border=\"1\" class=\"dataframe\">\n",
       "  <thead>\n",
       "    <tr style=\"text-align: right;\">\n",
       "      <th></th>\n",
       "      <th>Cell_000111</th>\n",
       "      <th>Cell_000112</th>\n",
       "      <th>Cell_000113</th>\n",
       "      <th>Cell_000231</th>\n",
       "      <th>Cell_000232</th>\n",
       "      <th>Cell_000233</th>\n",
       "      <th>Cell_000461</th>\n",
       "      <th>Cell_000462</th>\n",
       "      <th>Cell_000463</th>\n",
       "      <th>Cell_000821</th>\n",
       "      <th>...</th>\n",
       "      <th>Cell_006653</th>\n",
       "      <th>Cell_006661</th>\n",
       "      <th>Cell_006662</th>\n",
       "      <th>Cell_006663</th>\n",
       "      <th>Cell_007371</th>\n",
       "      <th>Cell_007372</th>\n",
       "      <th>Cell_007373</th>\n",
       "      <th>Cell_039871</th>\n",
       "      <th>Cell_039872</th>\n",
       "      <th>Cell_039873</th>\n",
       "    </tr>\n",
       "    <tr>\n",
       "      <th>Timestamp</th>\n",
       "      <th></th>\n",
       "      <th></th>\n",
       "      <th></th>\n",
       "      <th></th>\n",
       "      <th></th>\n",
       "      <th></th>\n",
       "      <th></th>\n",
       "      <th></th>\n",
       "      <th></th>\n",
       "      <th></th>\n",
       "      <th></th>\n",
       "      <th></th>\n",
       "      <th></th>\n",
       "      <th></th>\n",
       "      <th></th>\n",
       "      <th></th>\n",
       "      <th></th>\n",
       "      <th></th>\n",
       "      <th></th>\n",
       "      <th></th>\n",
       "      <th></th>\n",
       "    </tr>\n",
       "  </thead>\n",
       "  <tbody>\n",
       "    <tr>\n",
       "      <th>2017-10-23 00:00:00</th>\n",
       "      <td>29.26490</td>\n",
       "      <td>59.15291</td>\n",
       "      <td>59.01721</td>\n",
       "      <td>2.63658</td>\n",
       "      <td>14.11635</td>\n",
       "      <td>3.37565</td>\n",
       "      <td>7.69811</td>\n",
       "      <td>0.62042</td>\n",
       "      <td>0.74651</td>\n",
       "      <td>0.00000</td>\n",
       "      <td>...</td>\n",
       "      <td>36.89798</td>\n",
       "      <td>148.60854</td>\n",
       "      <td>98.66328</td>\n",
       "      <td>6.60830</td>\n",
       "      <td>0.82699</td>\n",
       "      <td>3.27327</td>\n",
       "      <td>80.90784</td>\n",
       "      <td>18.22045</td>\n",
       "      <td>6.99716</td>\n",
       "      <td>1.73569</td>\n",
       "    </tr>\n",
       "    <tr>\n",
       "      <th>2017-10-23 01:00:00</th>\n",
       "      <td>19.26170</td>\n",
       "      <td>60.22876</td>\n",
       "      <td>40.34814</td>\n",
       "      <td>13.16293</td>\n",
       "      <td>0.96246</td>\n",
       "      <td>7.47019</td>\n",
       "      <td>31.07216</td>\n",
       "      <td>0.52249</td>\n",
       "      <td>14.31437</td>\n",
       "      <td>19.78196</td>\n",
       "      <td>...</td>\n",
       "      <td>35.80842</td>\n",
       "      <td>11.13813</td>\n",
       "      <td>0.43016</td>\n",
       "      <td>1.45869</td>\n",
       "      <td>0.73014</td>\n",
       "      <td>0.35795</td>\n",
       "      <td>1.58017</td>\n",
       "      <td>38.19131</td>\n",
       "      <td>9.75174</td>\n",
       "      <td>7.38484</td>\n",
       "    </tr>\n",
       "    <tr>\n",
       "      <th>2017-10-23 02:00:00</th>\n",
       "      <td>18.37236</td>\n",
       "      <td>14.83900</td>\n",
       "      <td>1.27435</td>\n",
       "      <td>25.36683</td>\n",
       "      <td>1.07481</td>\n",
       "      <td>3.88256</td>\n",
       "      <td>26.14190</td>\n",
       "      <td>1.10567</td>\n",
       "      <td>27.31817</td>\n",
       "      <td>0.00000</td>\n",
       "      <td>...</td>\n",
       "      <td>42.86074</td>\n",
       "      <td>39.93543</td>\n",
       "      <td>0.28038</td>\n",
       "      <td>1.09835</td>\n",
       "      <td>0.38237</td>\n",
       "      <td>0.66306</td>\n",
       "      <td>0.75476</td>\n",
       "      <td>1.29435</td>\n",
       "      <td>3.66695</td>\n",
       "      <td>2.57090</td>\n",
       "    </tr>\n",
       "    <tr>\n",
       "      <th>2017-10-23 03:00:00</th>\n",
       "      <td>18.69268</td>\n",
       "      <td>0.98166</td>\n",
       "      <td>2.11746</td>\n",
       "      <td>1.66842</td>\n",
       "      <td>0.85055</td>\n",
       "      <td>14.04557</td>\n",
       "      <td>0.56444</td>\n",
       "      <td>0.50090</td>\n",
       "      <td>12.28002</td>\n",
       "      <td>0.00000</td>\n",
       "      <td>...</td>\n",
       "      <td>55.43529</td>\n",
       "      <td>10.91845</td>\n",
       "      <td>4.04031</td>\n",
       "      <td>5.95218</td>\n",
       "      <td>0.50307</td>\n",
       "      <td>0.26729</td>\n",
       "      <td>1.32703</td>\n",
       "      <td>1.01926</td>\n",
       "      <td>0.17117</td>\n",
       "      <td>11.62664</td>\n",
       "    </tr>\n",
       "    <tr>\n",
       "      <th>2017-10-23 04:00:00</th>\n",
       "      <td>21.62559</td>\n",
       "      <td>4.28219</td>\n",
       "      <td>3.51484</td>\n",
       "      <td>1.78151</td>\n",
       "      <td>0.71691</td>\n",
       "      <td>12.94846</td>\n",
       "      <td>27.45815</td>\n",
       "      <td>17.99582</td>\n",
       "      <td>5.18661</td>\n",
       "      <td>0.00033</td>\n",
       "      <td>...</td>\n",
       "      <td>16.57459</td>\n",
       "      <td>46.98406</td>\n",
       "      <td>0.89364</td>\n",
       "      <td>5.47769</td>\n",
       "      <td>4.58068</td>\n",
       "      <td>0.30167</td>\n",
       "      <td>1.20668</td>\n",
       "      <td>0.82393</td>\n",
       "      <td>123.40943</td>\n",
       "      <td>28.72087</td>\n",
       "    </tr>\n",
       "  </tbody>\n",
       "</table>\n",
       "<p>5 rows × 57 columns</p>\n",
       "</div>"
      ],
      "text/plain": [
       "                     Cell_000111  Cell_000112  Cell_000113  Cell_000231  \\\n",
       "Timestamp                                                                 \n",
       "2017-10-23 00:00:00     29.26490     59.15291     59.01721      2.63658   \n",
       "2017-10-23 01:00:00     19.26170     60.22876     40.34814     13.16293   \n",
       "2017-10-23 02:00:00     18.37236     14.83900      1.27435     25.36683   \n",
       "2017-10-23 03:00:00     18.69268      0.98166      2.11746      1.66842   \n",
       "2017-10-23 04:00:00     21.62559      4.28219      3.51484      1.78151   \n",
       "\n",
       "                     Cell_000232  Cell_000233  Cell_000461  Cell_000462  \\\n",
       "Timestamp                                                                 \n",
       "2017-10-23 00:00:00     14.11635      3.37565      7.69811      0.62042   \n",
       "2017-10-23 01:00:00      0.96246      7.47019     31.07216      0.52249   \n",
       "2017-10-23 02:00:00      1.07481      3.88256     26.14190      1.10567   \n",
       "2017-10-23 03:00:00      0.85055     14.04557      0.56444      0.50090   \n",
       "2017-10-23 04:00:00      0.71691     12.94846     27.45815     17.99582   \n",
       "\n",
       "                     Cell_000463  Cell_000821  ...  Cell_006653  Cell_006661  \\\n",
       "Timestamp                                      ...                             \n",
       "2017-10-23 00:00:00      0.74651      0.00000  ...     36.89798    148.60854   \n",
       "2017-10-23 01:00:00     14.31437     19.78196  ...     35.80842     11.13813   \n",
       "2017-10-23 02:00:00     27.31817      0.00000  ...     42.86074     39.93543   \n",
       "2017-10-23 03:00:00     12.28002      0.00000  ...     55.43529     10.91845   \n",
       "2017-10-23 04:00:00      5.18661      0.00033  ...     16.57459     46.98406   \n",
       "\n",
       "                     Cell_006662  Cell_006663  Cell_007371  Cell_007372  \\\n",
       "Timestamp                                                                 \n",
       "2017-10-23 00:00:00     98.66328      6.60830      0.82699      3.27327   \n",
       "2017-10-23 01:00:00      0.43016      1.45869      0.73014      0.35795   \n",
       "2017-10-23 02:00:00      0.28038      1.09835      0.38237      0.66306   \n",
       "2017-10-23 03:00:00      4.04031      5.95218      0.50307      0.26729   \n",
       "2017-10-23 04:00:00      0.89364      5.47769      4.58068      0.30167   \n",
       "\n",
       "                     Cell_007373  Cell_039871  Cell_039872  Cell_039873  \n",
       "Timestamp                                                                \n",
       "2017-10-23 00:00:00     80.90784     18.22045      6.99716      1.73569  \n",
       "2017-10-23 01:00:00      1.58017     38.19131      9.75174      7.38484  \n",
       "2017-10-23 02:00:00      0.75476      1.29435      3.66695      2.57090  \n",
       "2017-10-23 03:00:00      1.32703      1.01926      0.17117     11.62664  \n",
       "2017-10-23 04:00:00      1.20668      0.82393    123.40943     28.72087  \n",
       "\n",
       "[5 rows x 57 columns]"
      ]
     },
     "execution_count": 2,
     "metadata": {},
     "output_type": "execute_result"
    }
   ],
   "source": [
    "df = pd.read_csv('dataset.csv', index_col='Timestamp')\n",
    "df.head()"
   ]
  },
  {
   "cell_type": "markdown",
   "metadata": {},
   "source": [
    "## 2. Fill NaNs"
   ]
  },
  {
   "cell_type": "code",
   "execution_count": 3,
   "metadata": {},
   "outputs": [
    {
     "data": {
      "text/plain": [
       "0"
      ]
     },
     "execution_count": 3,
     "metadata": {},
     "output_type": "execute_result"
    }
   ],
   "source": [
    "ndf = df.interpolate(method='linear', axis=1) # linear interpolate\n",
    "#ndf = df.fillna(method='ffill', axis=1) # forward the last valid observation\n",
    "ndf = df.fillna(0) # fill remaned nans with 0s\n",
    "ndf.isna().sum().sum()"
   ]
  },
  {
   "cell_type": "markdown",
   "metadata": {},
   "source": [
    "## 3. Train-Test Split"
   ]
  },
  {
   "cell_type": "code",
   "execution_count": 4,
   "metadata": {},
   "outputs": [
    {
     "name": "stdout",
     "output_type": "stream",
     "text": [
      "(6990, 57)\n",
      "(1748, 57)\n"
     ]
    }
   ],
   "source": [
    "data = ndf.values\n",
    "data = data.astype('float32')\n",
    "ratio = 0.8\n",
    "train_size = int(ratio*len(data))\n",
    "train = data[:train_size]\n",
    "test = data[train_size:]\n",
    "print(train.shape)\n",
    "print(test.shape)"
   ]
  },
  {
   "cell_type": "markdown",
   "metadata": {},
   "source": [
    "## 4.Normalization"
   ]
  },
  {
   "cell_type": "code",
   "execution_count": 5,
   "metadata": {},
   "outputs": [],
   "source": [
    "scaler = MinMaxScaler()\n",
    "train = scaler.fit_transform(train)\n",
    "test = scaler.transform(test)"
   ]
  },
  {
   "cell_type": "markdown",
   "metadata": {},
   "source": [
    "## 5.Time Series Generators"
   ]
  },
  {
   "cell_type": "code",
   "execution_count": 34,
   "metadata": {},
   "outputs": [
    {
     "name": "stdout",
     "output_type": "stream",
     "text": [
      "Number of train samples:  6702\n",
      "Number of test samples:  1460\n"
     ]
    }
   ],
   "source": [
    "days_back = 12 # back days for prediction\n",
    "input_steps = 24*days_back \n",
    "output_steps = 1 \n",
    "batch_size = 1\n",
    "train_gen = tf.keras.preprocessing.sequence.TimeseriesGenerator(train,\n",
    "                                                                train,\n",
    "                                                                length=input_steps,\n",
    "                                                                batch_size=batch_size)\n",
    "test_gen = tf.keras.preprocessing.sequence.TimeseriesGenerator(test,\n",
    "                                                               test,\n",
    "                                                               length=input_steps,\n",
    "                                                               batch_size=batch_size)\n",
    "print(\"Number of train samples: \", len(train_gen))\n",
    "print(\"Number of test samples: \", len(test_gen))"
   ]
  },
  {
   "cell_type": "markdown",
   "metadata": {},
   "source": [
    "## 6. Vector AutoRegression"
   ]
  },
  {
   "cell_type": "code",
   "execution_count": 35,
   "metadata": {},
   "outputs": [
    {
     "name": "stdout",
     "output_type": "stream",
     "text": [
      "MSE of VAR Model is 0.016938257560481423\n"
     ]
    }
   ],
   "source": [
    "mse_list = list()\n",
    "for i in range(len(test_gen)):\n",
    "    tr, y = test_gen[i]\n",
    "    tr = tr.reshape((input_steps, test.shape[1]))\n",
    "    model = sm.tsa.VAR(tr)\n",
    "    model_fit = model.fit(maxlags=1) # lag order\n",
    "    y_predict = model_fit.forecast(tr, steps=1)\n",
    "    mse = mean_squared_error(y, y_predict)\n",
    "    mse_list.append(mse)\n",
    "# print results\n",
    "mse_array = np.array(mse_list)\n",
    "print(f\"MSE of VAR Model is {mse_array.mean()}\")"
   ]
  },
  {
   "cell_type": "markdown",
   "metadata": {},
   "source": [
    "## 7. Vector AutoRegression Moving Average"
   ]
  },
  {
   "cell_type": "markdown",
   "metadata": {},
   "source": [
    "order = (1,1) # model order (p,q)\n",
    "mse_list = list()\n",
    "for i in range(len(test_gen)):\n",
    "    tr, y = test_gen[i]\n",
    "    tr = tr.reshape((input_steps, test.shape[1]))\n",
    "    model = sm.tsa.VARMAX(tr, order=order, trend='c', error_cov_type='diagonal')\n",
    "    model_fit = model.fit(maxiter=100, disp=False)\n",
    "    y_predict = model_fit.forecast()\n",
    "    mse = mean_squared_error(y, y_predict)\n",
    "    print(i, mse)\n",
    "    mse_list.append(mse)"
   ]
  },
  {
   "cell_type": "markdown",
   "metadata": {},
   "source": [
    "mse_array = np.array(mse_list)\n",
    "print(f\"MSE of VARMA Model is {mse_array.mean()}\")"
   ]
  }
 ],
 "metadata": {
  "kernelspec": {
   "display_name": "Python 3",
   "language": "python",
   "name": "python3"
  },
  "language_info": {
   "codemirror_mode": {
    "name": "ipython",
    "version": 3
   },
   "file_extension": ".py",
   "mimetype": "text/x-python",
   "name": "python",
   "nbconvert_exporter": "python",
   "pygments_lexer": "ipython3",
   "version": "3.8.5"
  }
 },
 "nbformat": 4,
 "nbformat_minor": 4
}
